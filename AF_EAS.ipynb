{
  "nbformat": 4,
  "nbformat_minor": 0,
  "metadata": {
    "colab": {
      "provenance": [],
      "toc_visible": true,
      "authorship_tag": "ABX9TyO+Ve+gUfVMBGKsUgbru1kr",
      "include_colab_link": true
    },
    "kernelspec": {
      "name": "python3",
      "display_name": "Python 3"
    },
    "language_info": {
      "name": "python"
    }
  },
  "cells": [
    {
      "cell_type": "markdown",
      "metadata": {
        "id": "view-in-github",
        "colab_type": "text"
      },
      "source": [
        "<a href=\"https://colab.research.google.com/github/enockoech/ecode/blob/master/AF_EAS.ipynb\" target=\"_parent\"><img src=\"https://colab.research.google.com/assets/colab-badge.svg\" alt=\"Open In Colab\"/></a>"
      ]
    },
    {
      "cell_type": "code",
      "execution_count": 20,
      "metadata": {
        "colab": {
          "base_uri": "https://localhost:8080/",
          "height": 383
        },
        "id": "Uqy2JWEAMcsZ",
        "outputId": "85406217-a5c6-4e46-8a92-242f0abfb9ca"
      },
      "outputs": [
        {
          "name": "stdout",
          "output_type": "stream",
          "text": [
            "Was modeling performed and found to be less than 50% of OEL? (yes or no): n\n",
            "Enter result for sample 1: 0.01\n",
            "Enter result for sample 2: 0.02\n",
            "Enter result for sample 3: 0.03\n",
            "Enter the occupational exposure limit (OEL): 0.1\n"
          ]
        },
        {
          "output_type": "display_data",
          "data": {
            "text/plain": [
              "<Figure size 432x288 with 1 Axes>"
            ],
            "image/png": "[encoded data removed]"
          },
          "metadata": {
            "needs_background": "light"
          }
        },
        {
          "output_type": "stream",
          "name": "stdout",
          "text": [
            "Uncertain sampling data. Execute a full characterization and implement controls.\n"
          ]
        }
      ],
      "source": [
        "import statistics as stats\n",
        "import math\n",
        "import matplotlib.pyplot as plt\n",
        "\n",
        "# prompt user for modeling results\n",
        "modeling_less_than_50_percent_oel = input('Was modeling performed and found to be less than 50% of OEL? (yes or no): ').lower() == 'yes'\n",
        "\n",
        "if modeling_less_than_50_percent_oel:\n",
        "    print('Exposure is acceptable.')\n",
        "else:\n",
        "    # prompt user to enter three screening samples\n",
        "    samples = []\n",
        "    for i in range(3):\n",
        "        sample = float(input(f'Enter result for sample {i+1}: '))\n",
        "        samples.append(sample)\n",
        "\n",
        "    # calculate statistics for screening samples\n",
        "    sample_mean = stats.mean(samples)\n",
        "    sample_stdev = stats.stdev(samples)\n",
        "    t_value = 2.306  # t-distribution value for 95% confidence interval with 2 degrees of freedom\n",
        "\n",
        "    # calculate upper confidence limits (UCL) for each sample\n",
        "    ucls = [sample_mean + t_value * (sample_stdev / math.sqrt(3)) for i in range(3)]\n",
        "\n",
        "    # prompt user to enter OEL\n",
        "    oel = float(input('Enter the occupational exposure limit (OEL): '))\n",
        "\n",
        "    # plot histogram with UCL and OEL\n",
        "    num_bins = 10\n",
        "    plt.hist(samples, bins=num_bins, alpha=0.5, color='blue')\n",
        "    plt.axvline(x=oel, color='red', label='OEL')\n",
        "    for i, ucl in enumerate(ucls):\n",
        "        plt.axvline(x=ucl, color=f'C{i}', label=f'Sample {i+1} UCL')\n",
        "    plt.xlabel('Sample Results')\n",
        "    plt.ylabel('Frequency')\n",
        "    plt.legend()\n",
        "    plt.show()\n",
        "\n",
        "    # check if any UCL is above the OEL\n",
        "    if any(ucl >= oel for ucl in ucls):\n",
        "        print('Unacceptable sampling data. Controls should be implemented.')\n",
        "    elif any(ucl >= 0.1 * oel for ucl in ucls):\n",
        "        print('Uncertain sampling data. Execute a full characterization and implement controls.')\n",
        "    else:\n",
        "        print('Acceptable sampling data. No further action required.') \n"
      ]
    }
  ]
}