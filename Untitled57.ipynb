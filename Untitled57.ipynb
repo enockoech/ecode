{
  "nbformat": 4,
  "nbformat_minor": 0,
  "metadata": {
    "colab": {
      "provenance": [],
      "authorship_tag": "ABX9TyN3T6zWARNM2f3oTtx7DHpz",
      "include_colab_link": true
    },
    "kernelspec": {
      "name": "python3",
      "display_name": "Python 3"
    },
    "language_info": {
      "name": "python"
    }
  },
  "cells": [
    {
      "cell_type": "markdown",
      "metadata": {
        "id": "view-in-github",
        "colab_type": "text"
      },
      "source": [
        "<a href=\"https://colab.research.google.com/github/enockoech/ecode/blob/master/Untitled57.ipynb\" target=\"_parent\"><img src=\"https://colab.research.google.com/assets/colab-badge.svg\" alt=\"Open In Colab\"/></a>"
      ]
    },
    {
      "cell_type": "code",
      "execution_count": null,
      "metadata": {
        "id": "tbH3QnjxEMHH"
      },
      "outputs": [],
      "source": [
        "import networkx as nx\n",
        "import matplotlib.pyplot as plt\n",
        "import nest_asyncio\n",
        "\n",
        "# Example SAT formula in a manner that satisfies\n",
        "sat_formula = \"(x1 OR ~x2 OR x3) AND (~x1 OR x2)\"\n",
        "\n",
        "# Function to transform SAT formula to Vertex Cover instance\n",
        "def sat_to_vc(formula):\n",
        "\n",
        "    # Create graph\n",
        "    G = nx.Graph()\n",
        "\n",
        "    # Each clause is a node\n",
        "    clauses = formula.split(\"AND\")\n",
        "    G.add_nodes_from(clauses)\n",
        "\n",
        "    # Connect clauses that share variables\n",
        "    for c1 in clauses:\n",
        "        for c2 in clauses:\n",
        "            if c1 != c2:\n",
        "                vars1 = get_variables(c1)\n",
        "                vars2 = get_variables(c2)\n",
        "                if set(vars1) & set(vars2):\n",
        "                    G.add_edge(c1, c2)\n",
        "\n",
        "    return G\n",
        "\n",
        "def get_variables(clause):\n",
        "    # Logic to return variables in clause\n",
        "    # Eg: x1, x2, ~x3\n",
        "    return []\n",
        "\n",
        "G = sat_to_vc(sat_formula)\n",
        "\n",
        "# Draw graph\n",
        "pos = nx.spring_layout(G)\n",
        "nx.draw_networkx(G, pos)\n",
        "edge_labels = nx.get_edge_attributes(G,'weight')\n",
        "nx.draw_networkx_edge_labels(G, pos, edge_labels)\n",
        "plt.show()"
      ]
    }
  ]
}